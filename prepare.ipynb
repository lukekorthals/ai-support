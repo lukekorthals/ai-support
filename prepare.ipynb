{
 "cells": [
  {
   "cell_type": "markdown",
   "metadata": {},
   "source": [
    "Running this notebooks prepares everything for the course"
   ]
  },
  {
   "cell_type": "markdown",
   "metadata": {},
   "source": [
    "## Load global settings"
   ]
  },
  {
   "cell_type": "code",
   "execution_count": 2,
   "metadata": {},
   "outputs": [],
   "source": [
    "import json\n",
    "import yaml\n",
    "\n",
    "\n",
    "with open(\"settings.yaml\") as f:\n",
    "    settings = yaml.safe_load(f)\n",
    "\n",
    "\n",
    "# Global canvas settings\n",
    "COURSE_ID = settings[\"global\"][\"canvas\"][\"course_id\"]\n",
    "\n",
    "# Paths\n",
    "RESOURCES_PATH = settings[\"global\"][\"paths\"][\"resources\"]\n",
    "SUBMISSIONS_PATH = settings[\"global\"][\"paths\"][\"submissions\"]\n",
    "\n",
    "# Weeks\n",
    "WEEKS = settings[\"weeks\"]\n",
    "\n",
    "# Randomization\n",
    "GROUPS = settings[\"global\"][\"randomization\"][\"groups\"]\n",
    "SEED = settings[\"global\"][\"randomization\"][\"seed\"]\n",
    "\n",
    "# Surveys\n",
    "SURVEY_QUESTIONS = settings[\"surveys\"][\"survey_questions\"]\n",
    "SURVEY_DEFINITIONS = settings[\"surveys\"][\"survey_definitions\"]"
   ]
  },
  {
   "cell_type": "markdown",
   "metadata": {},
   "source": [
    "## Jsonifying resources\n",
    "\n",
    "Assignments, rubrics, example solutions, and learning goals are broken up according to the question indicators and converted into Json files for each week.\n",
    "\n",
    "These Json files are later used to prompt the LLM questionwise."
   ]
  },
  {
   "cell_type": "code",
   "execution_count": 3,
   "metadata": {},
   "outputs": [],
   "source": [
    "# Package imports\n",
    "from scripts.jsonify import jsonify_resources, analyze_jsonify_results"
   ]
  },
  {
   "cell_type": "code",
   "execution_count": null,
   "metadata": {},
   "outputs": [],
   "source": [
    "# Jsonify\n",
    "results = {f\"week-{week}\": jsonify_resources(week, RESOURCES_PATH) for week in WEEKS}\n",
    "analyze_jsonify_results(results)"
   ]
  },
  {
   "cell_type": "markdown",
   "metadata": {},
   "source": [
    "## Prepare submissions directory\n",
    "\n",
    "The submissions directory is prepared before the course"
   ]
  },
  {
   "cell_type": "code",
   "execution_count": 5,
   "metadata": {},
   "outputs": [],
   "source": [
    "# Package imports\n",
    "from canvasapi import Canvas\n",
    "from canvasapi.requester import Requester\n",
    "from canvas_connector.utils.canvas_utils import get_students_df\n",
    "import os\n",
    "\n",
    "# Local imports\n",
    "from scripts.filehandling import make_student_folders\n",
    "\n",
    "# Get environment variables\n",
    "CANVAS_API_URL = os.getenv(\"CANVAS_API_URL\")\n",
    "CANVAS_API_KEY = os.getenv(\"CANVAS_API_KEY\")\n",
    "\n",
    "# Prepare connection to Canvas API\n",
    "canvas = Canvas(CANVAS_API_URL, CANVAS_API_KEY)\n",
    "requester = Requester(CANVAS_API_URL, CANVAS_API_KEY)"
   ]
  },
  {
   "cell_type": "code",
   "execution_count": null,
   "metadata": {},
   "outputs": [],
   "source": [
    "# Get course from canvas\n",
    "course = canvas.get_course(COURSE_ID)\n",
    "\n",
    "# Get all students enrolled in the course\n",
    "students_df = get_students_df(course)\n",
    "students_df = students_df.loc[students_df[\"user_name\"] != \"Luke Korthals\"] # Remove Luke\n",
    "\n",
    "# Create student folders\n",
    "for student_id in students_df[\"user_id\"]:\n",
    "    [make_student_folders(student_id, week, SUBMISSIONS_PATH) for week in WEEKS]\n",
    "    \n",
    "print(f\"folders for {len(students_df)} students created\")"
   ]
  },
  {
   "cell_type": "markdown",
   "metadata": {},
   "source": [
    "## Randomize students into groups\n",
    "- Students are randomly assigned to one of 6 groups\n",
    "    - ABAB\n",
    "    - BABA\n",
    "    - ABBA\n",
    "    - BAAB\n",
    "    - AABB\n",
    "    - BBAA\n",
    "- Each group has an associated section in the Canvas course which were manually created in the webinterface\n",
    "- Students are assigned to sections based on the group they are in"
   ]
  },
  {
   "cell_type": "code",
   "execution_count": 7,
   "metadata": {},
   "outputs": [],
   "source": [
    "# Package imports\n",
    "import numpy as np\n",
    "import matplotlib.pyplot as plt"
   ]
  },
  {
   "cell_type": "code",
   "execution_count": 9,
   "metadata": {},
   "outputs": [],
   "source": [
    "run_randomization = True # this was already run"
   ]
  },
  {
   "cell_type": "code",
   "execution_count": null,
   "metadata": {},
   "outputs": [],
   "source": [
    "if run_randomization:\n",
    "    # Set seed\n",
    "    np.random.seed(SEED)\n",
    "\n",
    "    # Create balanced list of groups\n",
    "    n = len(students_df)\n",
    "    n_groups = len(GROUPS)\n",
    "    sample_from = np.tile(GROUPS, n // n_groups)\n",
    "    if len(sample_from) < n:\n",
    "        sample_from = np.append(sample_from, np.random.choice(GROUPS, n - len(sample_from), replace=False))\n",
    "\n",
    "    # Check if groups are balanced\n",
    "    plt.hist(sample_from, bins=n_groups)\n",
    "\n",
    "    # shuffle groups and assign to students\n",
    "    assignment = np.random.shuffle(sample_from)\n",
    "    students_df[\"group\"] = sample_from\n",
    "    for i, week in enumerate(WEEKS):\n",
    "        students_df[f\"week-{week}\"] = students_df[\"group\"].apply(lambda x: x[i])\n",
    "\n",
    "    # Save student groups\n",
    "    students_df.to_csv(\"submissions/students.csv\", index=False)\n",
    "    students_df.head()\n",
    "\n",
    "    # # Assign students to Canvas sections\n",
    "    # sections = [section for section in course.get_sections()]\n",
    "    # for student_id, group in zip(students_df[\"user_id\"], students_df[\"group\"]):\n",
    "    #     for section in sections:\n",
    "    #         if group == section.name:\n",
    "    #             section.enroll_user(user=student_id)\n"
   ]
  },
  {
   "cell_type": "code",
   "execution_count": 11,
   "metadata": {},
   "outputs": [],
   "source": [
    "# add example student to all groups\n",
    "import pandas as pd\n",
    "students_df = pd.read_csv(\"submissions/students.csv\")\n",
    "canvas_students = get_students_df(course)\n",
    "canvas_students = canvas_students.loc[canvas_students[\"user_name\"] == \"Luke Korthals\"]\n",
    "canvas_students[\"group\"] = \"AAAA\"\n",
    "canvas_students[\"week-1\"] = \"A\"\n",
    "canvas_students[\"week-2\"] = \"A\"\n",
    "canvas_students[\"week-3\"] = \"A\"\n",
    "canvas_students[\"week-4\"] = \"A\"\n",
    "students_df = pd.concat([students_df, canvas_students])\n",
    "students_df.to_csv(\"submissions/students.csv\", index=False)\n"
   ]
  },
  {
   "cell_type": "markdown",
   "metadata": {},
   "source": [
    "## Preparing the surveys\n",
    "\n",
    "- All surveys that are defined in the `settings.yaml` are created in the Canvas course.\n",
    "- Afterwards, they are manually assigned to the associated sections"
   ]
  },
  {
   "cell_type": "code",
   "execution_count": null,
   "metadata": {},
   "outputs": [],
   "source": [
    "create_surveys = False # this was already run"
   ]
  },
  {
   "cell_type": "code",
   "execution_count": 27,
   "metadata": {},
   "outputs": [],
   "source": [
    "# Local imports\n",
    "from scripts.survey_utils import create_survey"
   ]
  },
  {
   "cell_type": "code",
   "execution_count": 29,
   "metadata": {},
   "outputs": [],
   "source": [
    "if create_surveys:\n",
    "    # Create all surveys\n",
    "    for key in SURVEY_DEFINITIONS:\n",
    "        create_survey(course, SURVEY_DEFINITIONS[key], SURVEY_QUESTIONS)"
   ]
  }
 ],
 "metadata": {
  "kernelspec": {
   "display_name": "pips-2025",
   "language": "python",
   "name": "python3"
  },
  "language_info": {
   "codemirror_mode": {
    "name": "ipython",
    "version": 3
   },
   "file_extension": ".py",
   "mimetype": "text/x-python",
   "name": "python",
   "nbconvert_exporter": "python",
   "pygments_lexer": "ipython3",
   "version": "3.12.8"
  }
 },
 "nbformat": 4,
 "nbformat_minor": 2
}
