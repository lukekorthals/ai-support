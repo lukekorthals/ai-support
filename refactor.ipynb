{
 "cells": [
  {
   "cell_type": "markdown",
   "metadata": {},
   "source": [
    "## Select Assignment Number\n",
    "\n",
    "To load the correct settings, the number for the current assignment is set. "
   ]
  },
  {
   "cell_type": "code",
   "execution_count": 1,
   "metadata": {},
   "outputs": [],
   "source": [
    "assignment_nr = 1"
   ]
  },
  {
   "cell_type": "markdown",
   "metadata": {},
   "source": [
    "## Load Packages and Global Settings"
   ]
  },
  {
   "cell_type": "code",
   "execution_count": 2,
   "metadata": {},
   "outputs": [],
   "source": [
    "# Package imports\n",
    "from canvasapi import Canvas\n",
    "from canvasapi.requester import Requester\n",
    "from canvas_connector.utils.canvas_utils import download_assignment_submissions\n",
    "from openai import OpenAI\n",
    "import os\n",
    "import zipfile\n",
    "import shutil\n",
    "import re\n",
    "\n",
    "# Local imports\n",
    "from scripts.jsonify import jsonify, jsonify_resources, analyze_jsonify_results\n",
    "from scripts.utils import create_file_list"
   ]
  },
  {
   "cell_type": "code",
   "execution_count": 3,
   "metadata": {},
   "outputs": [],
   "source": [
    "# Load global settings\n",
    "from scripts.settings import *\n",
    "\n",
    "# Load assignment specific settings\n",
    "ASSIGNMENT = ASSIGNMENTS[assignment_nr]\n",
    "ASSIGNMENT_ID = ASSIGNMENT[\"canvas\"][\"assignment_id\"]\n",
    "QUIZ_ID = ASSIGNMENT[\"canvas\"][\"quiz_id\"]\n",
    "R_QUIZ_QUESTION_ID = ASSIGNMENT[\"canvas\"][\"r_quiz_question_id\"]\n",
    "ADV_QUIZ_QUESTION_ID = ASSIGNMENT[\"canvas\"][\"adv_quiz_question_id\"]\n",
    "LOCK_GRADES_DATE = ASSIGNMENT[\"lock_grades_date\"]"
   ]
  },
  {
   "cell_type": "code",
   "execution_count": 4,
   "metadata": {},
   "outputs": [],
   "source": [
    "# Initialize Canvas API\n",
    "canvas_client = Canvas(os.getenv(\"CANVAS_API_URL\"), os.getenv(\"CANVAS_API_KEY\"))\n",
    "canvas_requester = Requester(os.getenv(\"CANVAS_API_URL\"), os.getenv(\"CANVAS_API_KEY\"))\n",
    "\n",
    "# Initialize OpenAI API\n",
    "if USE_UVA_OPENAI:\n",
    "    openai_client = OpenAI(api_key=os.getenv(\"UVA_OPENAI_API_KEY\"), \n",
    "                           base_url=os.getenv(\"UVA_OPENAI_BASE_URL\"))\n",
    "else:\n",
    "    openai_client = OpenAI(api_key=os.getenv(\"OPENAI_API_KEY\"))"
   ]
  },
  {
   "cell_type": "markdown",
   "metadata": {},
   "source": [
    "## Jsonify Resources\n",
    "\n",
    "To ensure the latest changes to rubrics, assignment, example solutions, or goals are captured, the resources are jsonified."
   ]
  },
  {
   "cell_type": "code",
   "execution_count": 5,
   "metadata": {},
   "outputs": [
    {
     "name": "stdout",
     "output_type": "stream",
     "text": [
      "questions: 48 (R: 30, Radv: 8, Python: 10)\n",
      "rubrics: 48 (R: 30, Radv: 8, Python: 10)\n",
      "solutions: 48 (R: 30, Radv: 8, Python: 10)\n",
      "goals: 48 (R: 30, Radv: 8, Python: 10)\n"
     ]
    }
   ],
   "source": [
    "analyze_jsonify_results(jsonify_resources(assignment_nr, RESOURCES_PATH))"
   ]
  },
  {
   "cell_type": "markdown",
   "metadata": {},
   "source": [
    "## Download and Prepare Submissions\n",
    "\n",
    "All assignment submissions are downloaded and jsonified."
   ]
  },
  {
   "cell_type": "code",
   "execution_count": 14,
   "metadata": {},
   "outputs": [],
   "source": [
    "# Download assignment submissions\n",
    "user_whitelist = [84259]\n",
    "user_blacklist = []\n",
    "out_paths = download_assignment_submissions(canvas_requester, COURSE_ID, ASSIGNMENT_ID, user_whitelist, user_blacklist)\n",
    "\n",
    "# Jsonify submissions\n",
    "for out_path in out_paths:\n",
    "    jsonify(out_path, \".\".join(out_paths[0].split(\".\")[0:-1]) + \".json\")"
   ]
  }
 ],
 "metadata": {
  "kernelspec": {
   "display_name": "pips-2025",
   "language": "python",
   "name": "python3"
  },
  "language_info": {
   "codemirror_mode": {
    "name": "ipython",
    "version": 3
   },
   "file_extension": ".py",
   "mimetype": "text/x-python",
   "name": "python",
   "nbconvert_exporter": "python",
   "pygments_lexer": "ipython3",
   "version": "3.12.8"
  }
 },
 "nbformat": 4,
 "nbformat_minor": 2
}
